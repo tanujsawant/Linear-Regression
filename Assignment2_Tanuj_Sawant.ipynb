{
 "cells": [
  {
   "cell_type": "markdown",
   "metadata": {},
   "source": [
    "The motivation behind this exercise is to give a simple demonstration of how we can use pandas and a little bit of numpy and matplotlib and sklearn library to design a simple linear regression model.\n",
    "I am using a very basic regression model which is based on OLS assumptions.\n",
    "\n",
    "DATA:\n",
    "For this particular assignment I have taken dataset from kaggle which is Kings county housing price dataset. This data set has 20 attributes and 21613 rows. \n",
    "\n",
    "Target Variable: Price(Which is the house Price) --- Continuous Variable\n",
    "\n",
    "Predictor variables: \n",
    "1)Sqft_living - The size of house which is sqfeets. --- Continuous Variable\n",
    "2)Bathrooms- The number of bathrooms in house. --- Discrete Variable\n",
    "3)Bedrooms - The number of bedrooms in house. --- Discrete Variable \n",
    "4)Condition - This is the condition of house which is on scale of 5. --- Discrete Variable\n",
    "5)Year - The Year during which the house was constructed. --- Discrte Variable\n",
    "\n",
    "Hypothesis:\n",
    "1) HO: NULL HYPOTHESIS - With increase in sqfeet there is no change in price.\n",
    "   HA :ALTERNATE HYPOTHESIS - With increase in sqfeet there is change in price.\n",
    "   \n",
    "2) HO: NULL HYPOTHESIS - With increase in number of bathrooms there is no change in price.\n",
    "   HA :ALTERNATE HYPOTHESIS - With increase in number of bathrooms there is change in price.\n",
    "   \n",
    "3) HO: NULL HYPOTHESIS - With increase in number of bedrooms there is no change in price.\n",
    "   HA :ALTERNATE HYPOTHESIS - With increase in number of bedrooms there is change in price.\n",
    "   \n",
    "Data preperation:\n",
    "We are selecting only 5 variables out of 20 for predicitng as we are considering only the variables which are intutive and easier to understand.\n",
    "We are dividing the data into two different data frames.\n",
    "x <- predictor variables\n",
    "y <- Target variable\n",
    "\n",
    "   \n",
    "\n"
   ]
  },
  {
   "cell_type": "code",
   "execution_count": 42,
   "metadata": {
    "collapsed": true
   },
   "outputs": [],
   "source": [
    "import pandas as pd # we are importing the pandas library"
   ]
  },
  {
   "cell_type": "code",
   "execution_count": 43,
   "metadata": {
    "collapsed": true
   },
   "outputs": [],
   "source": [
    "import numpy as np # we are importing the numpy library"
   ]
  },
  {
   "cell_type": "code",
   "execution_count": 44,
   "metadata": {
    "collapsed": true
   },
   "outputs": [],
   "source": [
    "import matplotlib.pyplot as plt # we are importing the matplotlib library"
   ]
  },
  {
   "cell_type": "code",
   "execution_count": 45,
   "metadata": {
    "collapsed": true
   },
   "outputs": [],
   "source": [
    "import seaborn as sb # we are importing the seaborn library"
   ]
  },
  {
   "cell_type": "code",
   "execution_count": 46,
   "metadata": {
    "collapsed": true
   },
   "outputs": [],
   "source": [
    "%matplotlib inline "
   ]
  },
  {
   "cell_type": "markdown",
   "metadata": {},
   "source": [
    "we are setting   \" %matplotlib inline \"  this so we can get all the graphs embedded in the notebook."
   ]
  },
  {
   "cell_type": "code",
   "execution_count": 47,
   "metadata": {
    "collapsed": true
   },
   "outputs": [],
   "source": [
    "data = pd.read_csv('C:/Users/tanuj/Desktop/Subjects/DSP/Assignment2//kc_house_data.csv',index_col=0) #Importing the CSV file."
   ]
  },
  {
   "cell_type": "code",
   "execution_count": 48,
   "metadata": {},
   "outputs": [
    {
     "data": {
      "text/html": [
       "<div>\n",
       "<style>\n",
       "    .dataframe thead tr:only-child th {\n",
       "        text-align: right;\n",
       "    }\n",
       "\n",
       "    .dataframe thead th {\n",
       "        text-align: left;\n",
       "    }\n",
       "\n",
       "    .dataframe tbody tr th {\n",
       "        vertical-align: top;\n",
       "    }\n",
       "</style>\n",
       "<table border=\"1\" class=\"dataframe\">\n",
       "  <thead>\n",
       "    <tr style=\"text-align: right;\">\n",
       "      <th></th>\n",
       "      <th>date</th>\n",
       "      <th>price</th>\n",
       "      <th>bedrooms</th>\n",
       "      <th>bathrooms</th>\n",
       "      <th>sqft_living</th>\n",
       "      <th>sqft_lot</th>\n",
       "      <th>floors</th>\n",
       "      <th>waterfront</th>\n",
       "      <th>view</th>\n",
       "      <th>condition</th>\n",
       "      <th>grade</th>\n",
       "      <th>sqft_above</th>\n",
       "      <th>sqft_basement</th>\n",
       "      <th>yr_built</th>\n",
       "      <th>yr_renovated</th>\n",
       "      <th>zipcode</th>\n",
       "      <th>lat</th>\n",
       "      <th>long</th>\n",
       "      <th>sqft_living15</th>\n",
       "      <th>sqft_lot15</th>\n",
       "    </tr>\n",
       "    <tr>\n",
       "      <th>id</th>\n",
       "      <th></th>\n",
       "      <th></th>\n",
       "      <th></th>\n",
       "      <th></th>\n",
       "      <th></th>\n",
       "      <th></th>\n",
       "      <th></th>\n",
       "      <th></th>\n",
       "      <th></th>\n",
       "      <th></th>\n",
       "      <th></th>\n",
       "      <th></th>\n",
       "      <th></th>\n",
       "      <th></th>\n",
       "      <th></th>\n",
       "      <th></th>\n",
       "      <th></th>\n",
       "      <th></th>\n",
       "      <th></th>\n",
       "      <th></th>\n",
       "    </tr>\n",
       "  </thead>\n",
       "  <tbody>\n",
       "    <tr>\n",
       "      <th>7129300520</th>\n",
       "      <td>20141013T000000</td>\n",
       "      <td>221900.0</td>\n",
       "      <td>3</td>\n",
       "      <td>1.00</td>\n",
       "      <td>1180</td>\n",
       "      <td>5650</td>\n",
       "      <td>1.0</td>\n",
       "      <td>0</td>\n",
       "      <td>0</td>\n",
       "      <td>3</td>\n",
       "      <td>7</td>\n",
       "      <td>1180</td>\n",
       "      <td>0</td>\n",
       "      <td>1955</td>\n",
       "      <td>0</td>\n",
       "      <td>98178</td>\n",
       "      <td>47.5112</td>\n",
       "      <td>-122.257</td>\n",
       "      <td>1340</td>\n",
       "      <td>5650</td>\n",
       "    </tr>\n",
       "    <tr>\n",
       "      <th>6414100192</th>\n",
       "      <td>20141209T000000</td>\n",
       "      <td>538000.0</td>\n",
       "      <td>3</td>\n",
       "      <td>2.25</td>\n",
       "      <td>2570</td>\n",
       "      <td>7242</td>\n",
       "      <td>2.0</td>\n",
       "      <td>0</td>\n",
       "      <td>0</td>\n",
       "      <td>3</td>\n",
       "      <td>7</td>\n",
       "      <td>2170</td>\n",
       "      <td>400</td>\n",
       "      <td>1951</td>\n",
       "      <td>1991</td>\n",
       "      <td>98125</td>\n",
       "      <td>47.7210</td>\n",
       "      <td>-122.319</td>\n",
       "      <td>1690</td>\n",
       "      <td>7639</td>\n",
       "    </tr>\n",
       "    <tr>\n",
       "      <th>5631500400</th>\n",
       "      <td>20150225T000000</td>\n",
       "      <td>180000.0</td>\n",
       "      <td>2</td>\n",
       "      <td>1.00</td>\n",
       "      <td>770</td>\n",
       "      <td>10000</td>\n",
       "      <td>1.0</td>\n",
       "      <td>0</td>\n",
       "      <td>0</td>\n",
       "      <td>3</td>\n",
       "      <td>6</td>\n",
       "      <td>770</td>\n",
       "      <td>0</td>\n",
       "      <td>1933</td>\n",
       "      <td>0</td>\n",
       "      <td>98028</td>\n",
       "      <td>47.7379</td>\n",
       "      <td>-122.233</td>\n",
       "      <td>2720</td>\n",
       "      <td>8062</td>\n",
       "    </tr>\n",
       "    <tr>\n",
       "      <th>2487200875</th>\n",
       "      <td>20141209T000000</td>\n",
       "      <td>604000.0</td>\n",
       "      <td>4</td>\n",
       "      <td>3.00</td>\n",
       "      <td>1960</td>\n",
       "      <td>5000</td>\n",
       "      <td>1.0</td>\n",
       "      <td>0</td>\n",
       "      <td>0</td>\n",
       "      <td>5</td>\n",
       "      <td>7</td>\n",
       "      <td>1050</td>\n",
       "      <td>910</td>\n",
       "      <td>1965</td>\n",
       "      <td>0</td>\n",
       "      <td>98136</td>\n",
       "      <td>47.5208</td>\n",
       "      <td>-122.393</td>\n",
       "      <td>1360</td>\n",
       "      <td>5000</td>\n",
       "    </tr>\n",
       "    <tr>\n",
       "      <th>1954400510</th>\n",
       "      <td>20150218T000000</td>\n",
       "      <td>510000.0</td>\n",
       "      <td>3</td>\n",
       "      <td>2.00</td>\n",
       "      <td>1680</td>\n",
       "      <td>8080</td>\n",
       "      <td>1.0</td>\n",
       "      <td>0</td>\n",
       "      <td>0</td>\n",
       "      <td>3</td>\n",
       "      <td>8</td>\n",
       "      <td>1680</td>\n",
       "      <td>0</td>\n",
       "      <td>1987</td>\n",
       "      <td>0</td>\n",
       "      <td>98074</td>\n",
       "      <td>47.6168</td>\n",
       "      <td>-122.045</td>\n",
       "      <td>1800</td>\n",
       "      <td>7503</td>\n",
       "    </tr>\n",
       "  </tbody>\n",
       "</table>\n",
       "</div>"
      ],
      "text/plain": [
       "                       date     price  bedrooms  bathrooms  sqft_living  \\\n",
       "id                                                                        \n",
       "7129300520  20141013T000000  221900.0         3       1.00         1180   \n",
       "6414100192  20141209T000000  538000.0         3       2.25         2570   \n",
       "5631500400  20150225T000000  180000.0         2       1.00          770   \n",
       "2487200875  20141209T000000  604000.0         4       3.00         1960   \n",
       "1954400510  20150218T000000  510000.0         3       2.00         1680   \n",
       "\n",
       "            sqft_lot  floors  waterfront  view  condition  grade  sqft_above  \\\n",
       "id                                                                             \n",
       "7129300520      5650     1.0           0     0          3      7        1180   \n",
       "6414100192      7242     2.0           0     0          3      7        2170   \n",
       "5631500400     10000     1.0           0     0          3      6         770   \n",
       "2487200875      5000     1.0           0     0          5      7        1050   \n",
       "1954400510      8080     1.0           0     0          3      8        1680   \n",
       "\n",
       "            sqft_basement  yr_built  yr_renovated  zipcode      lat     long  \\\n",
       "id                                                                             \n",
       "7129300520              0      1955             0    98178  47.5112 -122.257   \n",
       "6414100192            400      1951          1991    98125  47.7210 -122.319   \n",
       "5631500400              0      1933             0    98028  47.7379 -122.233   \n",
       "2487200875            910      1965             0    98136  47.5208 -122.393   \n",
       "1954400510              0      1987             0    98074  47.6168 -122.045   \n",
       "\n",
       "            sqft_living15  sqft_lot15  \n",
       "id                                     \n",
       "7129300520           1340        5650  \n",
       "6414100192           1690        7639  \n",
       "5631500400           2720        8062  \n",
       "2487200875           1360        5000  \n",
       "1954400510           1800        7503  "
      ]
     },
     "execution_count": 48,
     "metadata": {},
     "output_type": "execute_result"
    }
   ],
   "source": [
    "data.head() # Reading the top 5 rows of the dataset"
   ]
  },
  {
   "cell_type": "code",
   "execution_count": 49,
   "metadata": {},
   "outputs": [
    {
     "data": {
      "text/plain": [
       "(21613, 20)"
      ]
     },
     "execution_count": 49,
     "metadata": {},
     "output_type": "execute_result"
    }
   ],
   "source": [
    "data.shape #trying to get the shape of data. (no of rows,no of columns)"
   ]
  },
  {
   "cell_type": "code",
   "execution_count": 50,
   "metadata": {},
   "outputs": [
    {
     "data": {
      "text/html": [
       "<div>\n",
       "<style>\n",
       "    .dataframe thead tr:only-child th {\n",
       "        text-align: right;\n",
       "    }\n",
       "\n",
       "    .dataframe thead th {\n",
       "        text-align: left;\n",
       "    }\n",
       "\n",
       "    .dataframe tbody tr th {\n",
       "        vertical-align: top;\n",
       "    }\n",
       "</style>\n",
       "<table border=\"1\" class=\"dataframe\">\n",
       "  <thead>\n",
       "    <tr style=\"text-align: right;\">\n",
       "      <th></th>\n",
       "      <th>price</th>\n",
       "      <th>bedrooms</th>\n",
       "      <th>bathrooms</th>\n",
       "      <th>sqft_living</th>\n",
       "      <th>sqft_lot</th>\n",
       "      <th>floors</th>\n",
       "      <th>waterfront</th>\n",
       "      <th>view</th>\n",
       "      <th>condition</th>\n",
       "      <th>grade</th>\n",
       "      <th>sqft_above</th>\n",
       "      <th>sqft_basement</th>\n",
       "      <th>yr_built</th>\n",
       "      <th>yr_renovated</th>\n",
       "      <th>zipcode</th>\n",
       "      <th>lat</th>\n",
       "      <th>long</th>\n",
       "      <th>sqft_living15</th>\n",
       "      <th>sqft_lot15</th>\n",
       "    </tr>\n",
       "  </thead>\n",
       "  <tbody>\n",
       "    <tr>\n",
       "      <th>count</th>\n",
       "      <td>2.161300e+04</td>\n",
       "      <td>21613.000000</td>\n",
       "      <td>21613.000000</td>\n",
       "      <td>21613.000000</td>\n",
       "      <td>2.161300e+04</td>\n",
       "      <td>21613.000000</td>\n",
       "      <td>21613.000000</td>\n",
       "      <td>21613.000000</td>\n",
       "      <td>21613.000000</td>\n",
       "      <td>21613.000000</td>\n",
       "      <td>21613.000000</td>\n",
       "      <td>21613.000000</td>\n",
       "      <td>21613.000000</td>\n",
       "      <td>21613.000000</td>\n",
       "      <td>21613.000000</td>\n",
       "      <td>21613.000000</td>\n",
       "      <td>21613.000000</td>\n",
       "      <td>21613.000000</td>\n",
       "      <td>21613.000000</td>\n",
       "    </tr>\n",
       "    <tr>\n",
       "      <th>mean</th>\n",
       "      <td>5.400881e+05</td>\n",
       "      <td>3.370842</td>\n",
       "      <td>2.114757</td>\n",
       "      <td>2079.899736</td>\n",
       "      <td>1.510697e+04</td>\n",
       "      <td>1.494309</td>\n",
       "      <td>0.007542</td>\n",
       "      <td>0.234303</td>\n",
       "      <td>3.409430</td>\n",
       "      <td>7.656873</td>\n",
       "      <td>1788.390691</td>\n",
       "      <td>291.509045</td>\n",
       "      <td>1971.005136</td>\n",
       "      <td>84.402258</td>\n",
       "      <td>98077.939805</td>\n",
       "      <td>47.560053</td>\n",
       "      <td>-122.213896</td>\n",
       "      <td>1986.552492</td>\n",
       "      <td>12768.455652</td>\n",
       "    </tr>\n",
       "    <tr>\n",
       "      <th>std</th>\n",
       "      <td>3.671272e+05</td>\n",
       "      <td>0.930062</td>\n",
       "      <td>0.770163</td>\n",
       "      <td>918.440897</td>\n",
       "      <td>4.142051e+04</td>\n",
       "      <td>0.539989</td>\n",
       "      <td>0.086517</td>\n",
       "      <td>0.766318</td>\n",
       "      <td>0.650743</td>\n",
       "      <td>1.175459</td>\n",
       "      <td>828.090978</td>\n",
       "      <td>442.575043</td>\n",
       "      <td>29.373411</td>\n",
       "      <td>401.679240</td>\n",
       "      <td>53.505026</td>\n",
       "      <td>0.138564</td>\n",
       "      <td>0.140828</td>\n",
       "      <td>685.391304</td>\n",
       "      <td>27304.179631</td>\n",
       "    </tr>\n",
       "    <tr>\n",
       "      <th>min</th>\n",
       "      <td>7.500000e+04</td>\n",
       "      <td>0.000000</td>\n",
       "      <td>0.000000</td>\n",
       "      <td>290.000000</td>\n",
       "      <td>5.200000e+02</td>\n",
       "      <td>1.000000</td>\n",
       "      <td>0.000000</td>\n",
       "      <td>0.000000</td>\n",
       "      <td>1.000000</td>\n",
       "      <td>1.000000</td>\n",
       "      <td>290.000000</td>\n",
       "      <td>0.000000</td>\n",
       "      <td>1900.000000</td>\n",
       "      <td>0.000000</td>\n",
       "      <td>98001.000000</td>\n",
       "      <td>47.155900</td>\n",
       "      <td>-122.519000</td>\n",
       "      <td>399.000000</td>\n",
       "      <td>651.000000</td>\n",
       "    </tr>\n",
       "    <tr>\n",
       "      <th>25%</th>\n",
       "      <td>3.219500e+05</td>\n",
       "      <td>3.000000</td>\n",
       "      <td>1.750000</td>\n",
       "      <td>1427.000000</td>\n",
       "      <td>5.040000e+03</td>\n",
       "      <td>1.000000</td>\n",
       "      <td>0.000000</td>\n",
       "      <td>0.000000</td>\n",
       "      <td>3.000000</td>\n",
       "      <td>7.000000</td>\n",
       "      <td>1190.000000</td>\n",
       "      <td>0.000000</td>\n",
       "      <td>1951.000000</td>\n",
       "      <td>0.000000</td>\n",
       "      <td>98033.000000</td>\n",
       "      <td>47.471000</td>\n",
       "      <td>-122.328000</td>\n",
       "      <td>1490.000000</td>\n",
       "      <td>5100.000000</td>\n",
       "    </tr>\n",
       "    <tr>\n",
       "      <th>50%</th>\n",
       "      <td>4.500000e+05</td>\n",
       "      <td>3.000000</td>\n",
       "      <td>2.250000</td>\n",
       "      <td>1910.000000</td>\n",
       "      <td>7.618000e+03</td>\n",
       "      <td>1.500000</td>\n",
       "      <td>0.000000</td>\n",
       "      <td>0.000000</td>\n",
       "      <td>3.000000</td>\n",
       "      <td>7.000000</td>\n",
       "      <td>1560.000000</td>\n",
       "      <td>0.000000</td>\n",
       "      <td>1975.000000</td>\n",
       "      <td>0.000000</td>\n",
       "      <td>98065.000000</td>\n",
       "      <td>47.571800</td>\n",
       "      <td>-122.230000</td>\n",
       "      <td>1840.000000</td>\n",
       "      <td>7620.000000</td>\n",
       "    </tr>\n",
       "    <tr>\n",
       "      <th>75%</th>\n",
       "      <td>6.450000e+05</td>\n",
       "      <td>4.000000</td>\n",
       "      <td>2.500000</td>\n",
       "      <td>2550.000000</td>\n",
       "      <td>1.068800e+04</td>\n",
       "      <td>2.000000</td>\n",
       "      <td>0.000000</td>\n",
       "      <td>0.000000</td>\n",
       "      <td>4.000000</td>\n",
       "      <td>8.000000</td>\n",
       "      <td>2210.000000</td>\n",
       "      <td>560.000000</td>\n",
       "      <td>1997.000000</td>\n",
       "      <td>0.000000</td>\n",
       "      <td>98118.000000</td>\n",
       "      <td>47.678000</td>\n",
       "      <td>-122.125000</td>\n",
       "      <td>2360.000000</td>\n",
       "      <td>10083.000000</td>\n",
       "    </tr>\n",
       "    <tr>\n",
       "      <th>max</th>\n",
       "      <td>7.700000e+06</td>\n",
       "      <td>33.000000</td>\n",
       "      <td>8.000000</td>\n",
       "      <td>13540.000000</td>\n",
       "      <td>1.651359e+06</td>\n",
       "      <td>3.500000</td>\n",
       "      <td>1.000000</td>\n",
       "      <td>4.000000</td>\n",
       "      <td>5.000000</td>\n",
       "      <td>13.000000</td>\n",
       "      <td>9410.000000</td>\n",
       "      <td>4820.000000</td>\n",
       "      <td>2015.000000</td>\n",
       "      <td>2015.000000</td>\n",
       "      <td>98199.000000</td>\n",
       "      <td>47.777600</td>\n",
       "      <td>-121.315000</td>\n",
       "      <td>6210.000000</td>\n",
       "      <td>871200.000000</td>\n",
       "    </tr>\n",
       "  </tbody>\n",
       "</table>\n",
       "</div>"
      ],
      "text/plain": [
       "              price      bedrooms     bathrooms   sqft_living      sqft_lot  \\\n",
       "count  2.161300e+04  21613.000000  21613.000000  21613.000000  2.161300e+04   \n",
       "mean   5.400881e+05      3.370842      2.114757   2079.899736  1.510697e+04   \n",
       "std    3.671272e+05      0.930062      0.770163    918.440897  4.142051e+04   \n",
       "min    7.500000e+04      0.000000      0.000000    290.000000  5.200000e+02   \n",
       "25%    3.219500e+05      3.000000      1.750000   1427.000000  5.040000e+03   \n",
       "50%    4.500000e+05      3.000000      2.250000   1910.000000  7.618000e+03   \n",
       "75%    6.450000e+05      4.000000      2.500000   2550.000000  1.068800e+04   \n",
       "max    7.700000e+06     33.000000      8.000000  13540.000000  1.651359e+06   \n",
       "\n",
       "             floors    waterfront          view     condition         grade  \\\n",
       "count  21613.000000  21613.000000  21613.000000  21613.000000  21613.000000   \n",
       "mean       1.494309      0.007542      0.234303      3.409430      7.656873   \n",
       "std        0.539989      0.086517      0.766318      0.650743      1.175459   \n",
       "min        1.000000      0.000000      0.000000      1.000000      1.000000   \n",
       "25%        1.000000      0.000000      0.000000      3.000000      7.000000   \n",
       "50%        1.500000      0.000000      0.000000      3.000000      7.000000   \n",
       "75%        2.000000      0.000000      0.000000      4.000000      8.000000   \n",
       "max        3.500000      1.000000      4.000000      5.000000     13.000000   \n",
       "\n",
       "         sqft_above  sqft_basement      yr_built  yr_renovated       zipcode  \\\n",
       "count  21613.000000   21613.000000  21613.000000  21613.000000  21613.000000   \n",
       "mean    1788.390691     291.509045   1971.005136     84.402258  98077.939805   \n",
       "std      828.090978     442.575043     29.373411    401.679240     53.505026   \n",
       "min      290.000000       0.000000   1900.000000      0.000000  98001.000000   \n",
       "25%     1190.000000       0.000000   1951.000000      0.000000  98033.000000   \n",
       "50%     1560.000000       0.000000   1975.000000      0.000000  98065.000000   \n",
       "75%     2210.000000     560.000000   1997.000000      0.000000  98118.000000   \n",
       "max     9410.000000    4820.000000   2015.000000   2015.000000  98199.000000   \n",
       "\n",
       "                lat          long  sqft_living15     sqft_lot15  \n",
       "count  21613.000000  21613.000000   21613.000000   21613.000000  \n",
       "mean      47.560053   -122.213896    1986.552492   12768.455652  \n",
       "std        0.138564      0.140828     685.391304   27304.179631  \n",
       "min       47.155900   -122.519000     399.000000     651.000000  \n",
       "25%       47.471000   -122.328000    1490.000000    5100.000000  \n",
       "50%       47.571800   -122.230000    1840.000000    7620.000000  \n",
       "75%       47.678000   -122.125000    2360.000000   10083.000000  \n",
       "max       47.777600   -121.315000    6210.000000  871200.000000  "
      ]
     },
     "execution_count": 50,
     "metadata": {},
     "output_type": "execute_result"
    }
   ],
   "source": [
    "data.describe() #this provides the summary statistics for the all the atributes."
   ]
  },
  {
   "cell_type": "code",
   "execution_count": 51,
   "metadata": {
    "collapsed": true
   },
   "outputs": [],
   "source": [
    "data.rename(columns={'bedrooms': 'No_bedrooms','bathrooms': 'No_bathrooms','sqft_living': 'SqFt','condition': 'house_condition','yr_built': 'Year_built'}, inplace=True)"
   ]
  },
  {
   "cell_type": "markdown",
   "metadata": {},
   "source": [
    "Here we are using a built in function in pandas which is rename for renaming the column names as per our convinience."
   ]
  },
  {
   "cell_type": "code",
   "execution_count": 52,
   "metadata": {},
   "outputs": [
    {
     "data": {
      "text/plain": [
       "<matplotlib.axes._subplots.AxesSubplot at 0x177d107f7f0>"
      ]
     },
     "execution_count": 52,
     "metadata": {},
     "output_type": "execute_result"
    },
    {
     "data": {
      "image/png": "[encoded data removed]",
      "text/plain": [
       "<matplotlib.figure.Figure at 0x177d107f048>"
      ]
     },
     "metadata": {},
     "output_type": "display_data"
    }
   ],
   "source": [
    "corr = data.corr()\n",
    "sb.heatmap(corr, \n",
    "            xticklabels=corr.columns.values,\n",
    "            yticklabels=corr.columns.values)\n"
   ]
  },
  {
   "cell_type": "code",
   "execution_count": 53,
   "metadata": {
    "collapsed": true
   },
   "outputs": [],
   "source": [
    "select_cols = ['No_bedrooms','No_bathrooms','SqFt','house_condition','Year_built','price'] #creating a variable by name feature_cols"
   ]
  },
  {
   "cell_type": "code",
   "execution_count": 54,
   "metadata": {},
   "outputs": [],
   "source": [
    "new_select_cols = data[select_cols]"
   ]
  },
  {
   "cell_type": "code",
   "execution_count": 55,
   "metadata": {},
   "outputs": [
    {
     "data": {
      "text/plain": [
       "<matplotlib.axes._subplots.AxesSubplot at 0x177d161a278>"
      ]
     },
     "execution_count": 55,
     "metadata": {},
     "output_type": "execute_result"
    },
    {
     "data": {
      "image/png": "[encoded data removed]",
      "text/plain": [
       "<matplotlib.figure.Figure at 0x177d0f15dd8>"
      ]
     },
     "metadata": {},
     "output_type": "display_data"
    }
   ],
   "source": [
    "corr = new_select_cols.corr()\n",
    "sb.heatmap(corr, \n",
    "            xticklabels=corr.columns.values,\n",
    "            yticklabels=corr.columns.values)\n"
   ]
  },
  {
   "cell_type": "markdown",
   "metadata": {},
   "source": [
    "The above plot is the correlation matrix which is plotted graphically. \n",
    "Bright red means there is correlation of 1 where as Dark blue indicated negative correlation of 1.\n"
   ]
  },
  {
   "cell_type": "code",
   "execution_count": 12,
   "metadata": {
    "collapsed": true
   },
   "outputs": [],
   "source": [
    "#we are plotting the scatter plot between few dependent and independent variables."
   ]
  },
  {
   "cell_type": "code",
   "execution_count": 56,
   "metadata": {},
   "outputs": [
    {
     "data": {
      "text/plain": [
       "<matplotlib.axes._subplots.AxesSubplot at 0x177d17799e8>"
      ]
     },
     "execution_count": 56,
     "metadata": {},
     "output_type": "execute_result"
    },
    {
     "data": {
      "image/png": "[encoded data removed]",
      "text/plain": [
       "<matplotlib.figure.Figure at 0x177d16ed978>"
      ]
     },
     "metadata": {},
     "output_type": "display_data"
    }
   ],
   "source": [
    "data.plot(kind='scatter',x='No_bedrooms',y='price',alpha=0.2) #scatter plot of number of bedroom vs price"
   ]
  },
  {
   "cell_type": "markdown",
   "metadata": {},
   "source": [
    "This scatter plot does not look linear as number of bedrooms is a categorical variable. There is hetroskedacity in data which means a fanning effect is visible."
   ]
  },
  {
   "cell_type": "code",
   "execution_count": 57,
   "metadata": {},
   "outputs": [
    {
     "data": {
      "text/plain": [
       "<matplotlib.axes._subplots.AxesSubplot at 0x177d1ca1828>"
      ]
     },
     "execution_count": 57,
     "metadata": {},
     "output_type": "execute_result"
    },
    {
     "data": {
      "image/png": "[encoded data removed]",
      "text/plain": [
       "<matplotlib.figure.Figure at 0x177d104e7f0>"
      ]
     },
     "metadata": {},
     "output_type": "display_data"
    }
   ],
   "source": [
    "data.plot(kind='scatter',x='SqFt',y='price',color=\"Red\",alpha=0.2) #scatter plot of number of bedroom vs price"
   ]
  },
  {
   "cell_type": "markdown",
   "metadata": {},
   "source": [
    "This plot seems to have a normal relation between the x and y variable."
   ]
  },
  {
   "cell_type": "code",
   "execution_count": 58,
   "metadata": {},
   "outputs": [
    {
     "data": {
      "text/plain": [
       "<matplotlib.axes._subplots.AxesSubplot at 0x177d1cff6d8>"
      ]
     },
     "execution_count": 58,
     "metadata": {},
     "output_type": "execute_result"
    },
    {
     "data": {
      "image/png": "[encoded data removed]",
      "text/plain": [
       "<matplotlib.figure.Figure at 0x177d0f15e48>"
      ]
     },
     "metadata": {},
     "output_type": "display_data"
    }
   ],
   "source": [
    "data.plot(kind='scatter',x='No_bathrooms',y='price',color=\"Green\",alpha=0.2) #scatter plot of number of bedroom vs price"
   ]
  },
  {
   "cell_type": "raw",
   "metadata": {},
   "source": [
    "This is again a hetroskedastic plot. but we can find a linear trend with the increase in number of bathrooms the price increases"
   ]
  },
  {
   "cell_type": "code",
   "execution_count": 82,
   "metadata": {
    "collapsed": true
   },
   "outputs": [],
   "source": [
    "#In this plot we will plot the histogram of our target variable (y) which is house price"
   ]
  },
  {
   "cell_type": "code",
   "execution_count": 59,
   "metadata": {},
   "outputs": [
    {
     "data": {
      "text/plain": [
       "<matplotlib.axes._subplots.AxesSubplot at 0x177d1da24e0>"
      ]
     },
     "execution_count": 59,
     "metadata": {},
     "output_type": "execute_result"
    },
    {
     "data": {
      "image/png": "[encoded data removed]",
      "text/plain": [
       "<matplotlib.figure.Figure at 0x177d16423c8>"
      ]
     },
     "metadata": {},
     "output_type": "display_data"
    }
   ],
   "source": [
    "data.plot(kind='hist',y='price',color=\"lightBlue\")"
   ]
  },
  {
   "cell_type": "markdown",
   "metadata": {},
   "source": [
    "From the above histogram it is clearly visible that target variable is right skewed. Hence the error after fitting the model will be very large and the model will not work properly\n"
   ]
  },
  {
   "cell_type": "code",
   "execution_count": 60,
   "metadata": {
    "collapsed": true
   },
   "outputs": [],
   "source": [
    "feature_cols = ['No_bedrooms','No_bathrooms','SqFt','house_condition','Year_built'] #creating a variable by name feature_cols"
   ]
  },
  {
   "cell_type": "code",
   "execution_count": 61,
   "metadata": {
    "collapsed": true
   },
   "outputs": [],
   "source": [
    "x = data[feature_cols] #appending that variable to match with our data and creating x variables which are the predictor variables"
   ]
  },
  {
   "cell_type": "code",
   "execution_count": 62,
   "metadata": {
    "collapsed": true
   },
   "outputs": [],
   "source": [
    "y = data.price #our independent variable or target variable."
   ]
  },
  {
   "cell_type": "code",
   "execution_count": 63,
   "metadata": {
    "collapsed": true
   },
   "outputs": [],
   "source": [
    "from sklearn.model_selection import train_test_split # importing the function from sklearb which splits data into training and test"
   ]
  },
  {
   "cell_type": "code",
   "execution_count": 64,
   "metadata": {},
   "outputs": [],
   "source": [
    "x_train,x_test,y_train,y_test = train_test_split(x,y,test_size=0.2,random_state=36) #we are splitting data in the ratior 80:20/"
   ]
  },
  {
   "cell_type": "code",
   "execution_count": 65,
   "metadata": {
    "collapsed": true
   },
   "outputs": [],
   "source": [
    "from sklearn.linear_model import LinearRegression #importing the linear regression model"
   ]
  },
  {
   "cell_type": "code",
   "execution_count": 66,
   "metadata": {
    "collapsed": true
   },
   "outputs": [],
   "source": [
    "lm = LinearRegression() #creating an object of linear regression model"
   ]
  },
  {
   "cell_type": "code",
   "execution_count": 67,
   "metadata": {},
   "outputs": [
    {
     "data": {
      "text/plain": [
       "LinearRegression(copy_X=True, fit_intercept=True, n_jobs=1, normalize=False)"
      ]
     },
     "execution_count": 67,
     "metadata": {},
     "output_type": "execute_result"
    }
   ],
   "source": [
    "lm.fit(x_train,y_train) #runnign the model."
   ]
  },
  {
   "cell_type": "code",
   "execution_count": 69,
   "metadata": {
    "collapsed": true
   },
   "outputs": [],
   "source": [
    "coeff_df = pd.DataFrame(lm.coef_,x.columns,columns=['Coefficient'])"
   ]
  },
  {
   "cell_type": "markdown",
   "metadata": {},
   "source": [
    "Creating a data frame by concatenating the values of x and the regression coefficients."
   ]
  },
  {
   "cell_type": "code",
   "execution_count": 70,
   "metadata": {},
   "outputs": [
    {
     "data": {
      "text/html": [
       "<div>\n",
       "<style>\n",
       "    .dataframe thead tr:only-child th {\n",
       "        text-align: right;\n",
       "    }\n",
       "\n",
       "    .dataframe thead th {\n",
       "        text-align: left;\n",
       "    }\n",
       "\n",
       "    .dataframe tbody tr th {\n",
       "        vertical-align: top;\n",
       "    }\n",
       "</style>\n",
       "<table border=\"1\" class=\"dataframe\">\n",
       "  <thead>\n",
       "    <tr style=\"text-align: right;\">\n",
       "      <th></th>\n",
       "      <th>Coefficient</th>\n",
       "    </tr>\n",
       "  </thead>\n",
       "  <tbody>\n",
       "    <tr>\n",
       "      <th>No_bedrooms</th>\n",
       "      <td>-68587.050779</td>\n",
       "    </tr>\n",
       "    <tr>\n",
       "      <th>No_bathrooms</th>\n",
       "      <td>80790.997267</td>\n",
       "    </tr>\n",
       "    <tr>\n",
       "      <th>SqFt</th>\n",
       "      <td>295.190896</td>\n",
       "    </tr>\n",
       "    <tr>\n",
       "      <th>house_condition</th>\n",
       "      <td>12378.834909</td>\n",
       "    </tr>\n",
       "    <tr>\n",
       "      <th>Year_built</th>\n",
       "      <td>-2931.103552</td>\n",
       "    </tr>\n",
       "  </tbody>\n",
       "</table>\n",
       "</div>"
      ],
      "text/plain": [
       "                  Coefficient\n",
       "No_bedrooms     -68587.050779\n",
       "No_bathrooms     80790.997267\n",
       "SqFt               295.190896\n",
       "house_condition  12378.834909\n",
       "Year_built       -2931.103552"
      ]
     },
     "execution_count": 70,
     "metadata": {},
     "output_type": "execute_result"
    }
   ],
   "source": [
    "coeff_df #printing the data frame"
   ]
  },
  {
   "cell_type": "markdown",
   "metadata": {},
   "source": [
    "Interpreting the coefficients:\n",
    "1)No_bedrooms = -69070 ::  This shows that with a increase in bedroom the price decreases by 69070$\n",
    "2)No_bathrooms = 81134 ::  This represents with a increase in bathroom the price increases by 81134$\n",
    "3)SqFt = 302.85  :: With every 1sqft increase the price increases by 302$\n",
    "4)House_condition = 11214 :: With increase in house condition(near to 4) there is increase in price by 11214$.\n",
    "5)Year_built = -3019 :: As the year built increases the house price decreases by 3019$"
   ]
  },
  {
   "cell_type": "code",
   "execution_count": 73,
   "metadata": {
    "collapsed": true
   },
   "outputs": [],
   "source": [
    "y_pred = lm.predict(x_test) # we are predicting the values from the test dataset"
   ]
  },
  {
   "cell_type": "code",
   "execution_count": 74,
   "metadata": {
    "collapsed": true
   },
   "outputs": [],
   "source": [
    "result = pd.DataFrame({'Actual':y_test,'Predicted':y_pred})"
   ]
  },
  {
   "cell_type": "markdown",
   "metadata": {},
   "source": [
    "We have created a dataframe which has the actual values and the predicted values"
   ]
  },
  {
   "cell_type": "code",
   "execution_count": 109,
   "metadata": {},
   "outputs": [
    {
     "data": {
      "text/html": [
       "<div>\n",
       "<style>\n",
       "    .dataframe thead tr:only-child th {\n",
       "        text-align: right;\n",
       "    }\n",
       "\n",
       "    .dataframe thead th {\n",
       "        text-align: left;\n",
       "    }\n",
       "\n",
       "    .dataframe tbody tr th {\n",
       "        vertical-align: top;\n",
       "    }\n",
       "</style>\n",
       "<table border=\"1\" class=\"dataframe\">\n",
       "  <thead>\n",
       "    <tr style=\"text-align: right;\">\n",
       "      <th></th>\n",
       "      <th>Actual</th>\n",
       "      <th>Predicted</th>\n",
       "    </tr>\n",
       "    <tr>\n",
       "      <th>id</th>\n",
       "      <th></th>\n",
       "      <th></th>\n",
       "    </tr>\n",
       "  </thead>\n",
       "  <tbody>\n",
       "    <tr>\n",
       "      <th>2254501342</th>\n",
       "      <td>518000.0</td>\n",
       "      <td>2.130442e+05</td>\n",
       "    </tr>\n",
       "    <tr>\n",
       "      <th>8091410530</th>\n",
       "      <td>270000.0</td>\n",
       "      <td>3.959426e+05</td>\n",
       "    </tr>\n",
       "    <tr>\n",
       "      <th>3758900150</th>\n",
       "      <td>425000.0</td>\n",
       "      <td>4.930409e+05</td>\n",
       "    </tr>\n",
       "    <tr>\n",
       "      <th>3448900290</th>\n",
       "      <td>636230.0</td>\n",
       "      <td>6.276122e+05</td>\n",
       "    </tr>\n",
       "    <tr>\n",
       "      <th>686500030</th>\n",
       "      <td>650000.0</td>\n",
       "      <td>8.885889e+05</td>\n",
       "    </tr>\n",
       "    <tr>\n",
       "      <th>4458300190</th>\n",
       "      <td>875000.0</td>\n",
       "      <td>4.676328e+05</td>\n",
       "    </tr>\n",
       "    <tr>\n",
       "      <th>7950700120</th>\n",
       "      <td>279000.0</td>\n",
       "      <td>4.598905e+05</td>\n",
       "    </tr>\n",
       "    <tr>\n",
       "      <th>3526039101</th>\n",
       "      <td>622000.0</td>\n",
       "      <td>7.002424e+05</td>\n",
       "    </tr>\n",
       "    <tr>\n",
       "      <th>1921069059</th>\n",
       "      <td>250000.0</td>\n",
       "      <td>3.187716e+05</td>\n",
       "    </tr>\n",
       "    <tr>\n",
       "      <th>7454000315</th>\n",
       "      <td>299500.0</td>\n",
       "      <td>2.261483e+05</td>\n",
       "    </tr>\n",
       "    <tr>\n",
       "      <th>1077100070</th>\n",
       "      <td>449900.0</td>\n",
       "      <td>5.075424e+05</td>\n",
       "    </tr>\n",
       "    <tr>\n",
       "      <th>8860300300</th>\n",
       "      <td>610000.0</td>\n",
       "      <td>5.408032e+05</td>\n",
       "    </tr>\n",
       "    <tr>\n",
       "      <th>3726800201</th>\n",
       "      <td>410000.0</td>\n",
       "      <td>6.083538e+05</td>\n",
       "    </tr>\n",
       "    <tr>\n",
       "      <th>7582700075</th>\n",
       "      <td>1485000.0</td>\n",
       "      <td>1.047265e+06</td>\n",
       "    </tr>\n",
       "    <tr>\n",
       "      <th>3881900445</th>\n",
       "      <td>399950.0</td>\n",
       "      <td>3.976808e+05</td>\n",
       "    </tr>\n",
       "    <tr>\n",
       "      <th>7915100490</th>\n",
       "      <td>589000.0</td>\n",
       "      <td>5.891790e+05</td>\n",
       "    </tr>\n",
       "    <tr>\n",
       "      <th>1523550480</th>\n",
       "      <td>580000.0</td>\n",
       "      <td>5.171031e+05</td>\n",
       "    </tr>\n",
       "    <tr>\n",
       "      <th>7349650330</th>\n",
       "      <td>270000.0</td>\n",
       "      <td>4.335362e+05</td>\n",
       "    </tr>\n",
       "    <tr>\n",
       "      <th>425069102</th>\n",
       "      <td>730000.0</td>\n",
       "      <td>9.583128e+05</td>\n",
       "    </tr>\n",
       "    <tr>\n",
       "      <th>9183703376</th>\n",
       "      <td>225000.0</td>\n",
       "      <td>2.768523e+05</td>\n",
       "    </tr>\n",
       "    <tr>\n",
       "      <th>3578401700</th>\n",
       "      <td>540000.0</td>\n",
       "      <td>4.856901e+05</td>\n",
       "    </tr>\n",
       "    <tr>\n",
       "      <th>1453602310</th>\n",
       "      <td>303000.0</td>\n",
       "      <td>2.964809e+05</td>\n",
       "    </tr>\n",
       "    <tr>\n",
       "      <th>3250500140</th>\n",
       "      <td>850000.0</td>\n",
       "      <td>3.871944e+05</td>\n",
       "    </tr>\n",
       "    <tr>\n",
       "      <th>2374200005</th>\n",
       "      <td>375000.0</td>\n",
       "      <td>7.475589e+05</td>\n",
       "    </tr>\n",
       "    <tr>\n",
       "      <th>6403500570</th>\n",
       "      <td>498500.0</td>\n",
       "      <td>6.733042e+05</td>\n",
       "    </tr>\n",
       "    <tr>\n",
       "      <th>163000010</th>\n",
       "      <td>330000.0</td>\n",
       "      <td>4.370965e+05</td>\n",
       "    </tr>\n",
       "    <tr>\n",
       "      <th>4070700290</th>\n",
       "      <td>899000.0</td>\n",
       "      <td>4.786380e+05</td>\n",
       "    </tr>\n",
       "    <tr>\n",
       "      <th>5096300130</th>\n",
       "      <td>413000.0</td>\n",
       "      <td>3.118450e+05</td>\n",
       "    </tr>\n",
       "    <tr>\n",
       "      <th>3448000755</th>\n",
       "      <td>399950.0</td>\n",
       "      <td>5.478879e+05</td>\n",
       "    </tr>\n",
       "    <tr>\n",
       "      <th>4021700025</th>\n",
       "      <td>569000.0</td>\n",
       "      <td>1.044575e+06</td>\n",
       "    </tr>\n",
       "    <tr>\n",
       "      <th>...</th>\n",
       "      <td>...</td>\n",
       "      <td>...</td>\n",
       "    </tr>\n",
       "    <tr>\n",
       "      <th>1823049171</th>\n",
       "      <td>275000.0</td>\n",
       "      <td>3.594859e+05</td>\n",
       "    </tr>\n",
       "    <tr>\n",
       "      <th>7967200060</th>\n",
       "      <td>243000.0</td>\n",
       "      <td>3.259755e+05</td>\n",
       "    </tr>\n",
       "    <tr>\n",
       "      <th>5318100504</th>\n",
       "      <td>524000.0</td>\n",
       "      <td>5.778590e+05</td>\n",
       "    </tr>\n",
       "    <tr>\n",
       "      <th>9378700200</th>\n",
       "      <td>375000.0</td>\n",
       "      <td>6.173069e+05</td>\n",
       "    </tr>\n",
       "    <tr>\n",
       "      <th>3649100586</th>\n",
       "      <td>483000.0</td>\n",
       "      <td>5.317588e+05</td>\n",
       "    </tr>\n",
       "    <tr>\n",
       "      <th>4324500490</th>\n",
       "      <td>215000.0</td>\n",
       "      <td>2.127775e+05</td>\n",
       "    </tr>\n",
       "    <tr>\n",
       "      <th>2776600002</th>\n",
       "      <td>520000.0</td>\n",
       "      <td>3.280362e+05</td>\n",
       "    </tr>\n",
       "    <tr>\n",
       "      <th>9282800075</th>\n",
       "      <td>339000.0</td>\n",
       "      <td>4.866268e+05</td>\n",
       "    </tr>\n",
       "    <tr>\n",
       "      <th>8673400052</th>\n",
       "      <td>560000.0</td>\n",
       "      <td>3.043480e+05</td>\n",
       "    </tr>\n",
       "    <tr>\n",
       "      <th>2731600045</th>\n",
       "      <td>390000.0</td>\n",
       "      <td>6.944295e+05</td>\n",
       "    </tr>\n",
       "    <tr>\n",
       "      <th>9510860560</th>\n",
       "      <td>674000.0</td>\n",
       "      <td>4.493984e+05</td>\n",
       "    </tr>\n",
       "    <tr>\n",
       "      <th>3893100327</th>\n",
       "      <td>355000.0</td>\n",
       "      <td>1.566618e+05</td>\n",
       "    </tr>\n",
       "    <tr>\n",
       "      <th>1796350690</th>\n",
       "      <td>245000.0</td>\n",
       "      <td>2.990993e+05</td>\n",
       "    </tr>\n",
       "    <tr>\n",
       "      <th>88000591</th>\n",
       "      <td>212000.0</td>\n",
       "      <td>1.782979e+05</td>\n",
       "    </tr>\n",
       "    <tr>\n",
       "      <th>5562100325</th>\n",
       "      <td>305000.0</td>\n",
       "      <td>3.000717e+05</td>\n",
       "    </tr>\n",
       "    <tr>\n",
       "      <th>3023049143</th>\n",
       "      <td>640000.0</td>\n",
       "      <td>8.326836e+05</td>\n",
       "    </tr>\n",
       "    <tr>\n",
       "      <th>6141100750</th>\n",
       "      <td>389000.0</td>\n",
       "      <td>3.460013e+05</td>\n",
       "    </tr>\n",
       "    <tr>\n",
       "      <th>2473480210</th>\n",
       "      <td>306000.0</td>\n",
       "      <td>4.327767e+05</td>\n",
       "    </tr>\n",
       "    <tr>\n",
       "      <th>2600000510</th>\n",
       "      <td>686000.0</td>\n",
       "      <td>5.114660e+05</td>\n",
       "    </tr>\n",
       "    <tr>\n",
       "      <th>5019500215</th>\n",
       "      <td>495000.0</td>\n",
       "      <td>4.934143e+05</td>\n",
       "    </tr>\n",
       "    <tr>\n",
       "      <th>9324800455</th>\n",
       "      <td>436000.0</td>\n",
       "      <td>4.247134e+05</td>\n",
       "    </tr>\n",
       "    <tr>\n",
       "      <th>7299600700</th>\n",
       "      <td>328000.0</td>\n",
       "      <td>5.165826e+05</td>\n",
       "    </tr>\n",
       "    <tr>\n",
       "      <th>8718500260</th>\n",
       "      <td>485000.0</td>\n",
       "      <td>6.830749e+05</td>\n",
       "    </tr>\n",
       "    <tr>\n",
       "      <th>2619950400</th>\n",
       "      <td>396800.0</td>\n",
       "      <td>4.451849e+05</td>\n",
       "    </tr>\n",
       "    <tr>\n",
       "      <th>4083305870</th>\n",
       "      <td>705000.0</td>\n",
       "      <td>6.715295e+05</td>\n",
       "    </tr>\n",
       "    <tr>\n",
       "      <th>9279700013</th>\n",
       "      <td>1250000.0</td>\n",
       "      <td>9.360745e+05</td>\n",
       "    </tr>\n",
       "    <tr>\n",
       "      <th>9510970300</th>\n",
       "      <td>775000.0</td>\n",
       "      <td>7.911433e+05</td>\n",
       "    </tr>\n",
       "    <tr>\n",
       "      <th>8682301050</th>\n",
       "      <td>705000.0</td>\n",
       "      <td>6.188337e+05</td>\n",
       "    </tr>\n",
       "    <tr>\n",
       "      <th>3992700775</th>\n",
       "      <td>410000.0</td>\n",
       "      <td>4.025586e+05</td>\n",
       "    </tr>\n",
       "    <tr>\n",
       "      <th>1761300100</th>\n",
       "      <td>279950.0</td>\n",
       "      <td>4.317871e+05</td>\n",
       "    </tr>\n",
       "  </tbody>\n",
       "</table>\n",
       "<p>4323 rows × 2 columns</p>\n",
       "</div>"
      ],
      "text/plain": [
       "               Actual     Predicted\n",
       "id                                 \n",
       "2254501342   518000.0  2.130442e+05\n",
       "8091410530   270000.0  3.959426e+05\n",
       "3758900150   425000.0  4.930409e+05\n",
       "3448900290   636230.0  6.276122e+05\n",
       "686500030    650000.0  8.885889e+05\n",
       "4458300190   875000.0  4.676328e+05\n",
       "7950700120   279000.0  4.598905e+05\n",
       "3526039101   622000.0  7.002424e+05\n",
       "1921069059   250000.0  3.187716e+05\n",
       "7454000315   299500.0  2.261483e+05\n",
       "1077100070   449900.0  5.075424e+05\n",
       "8860300300   610000.0  5.408032e+05\n",
       "3726800201   410000.0  6.083538e+05\n",
       "7582700075  1485000.0  1.047265e+06\n",
       "3881900445   399950.0  3.976808e+05\n",
       "7915100490   589000.0  5.891790e+05\n",
       "1523550480   580000.0  5.171031e+05\n",
       "7349650330   270000.0  4.335362e+05\n",
       "425069102    730000.0  9.583128e+05\n",
       "9183703376   225000.0  2.768523e+05\n",
       "3578401700   540000.0  4.856901e+05\n",
       "1453602310   303000.0  2.964809e+05\n",
       "3250500140   850000.0  3.871944e+05\n",
       "2374200005   375000.0  7.475589e+05\n",
       "6403500570   498500.0  6.733042e+05\n",
       "163000010    330000.0  4.370965e+05\n",
       "4070700290   899000.0  4.786380e+05\n",
       "5096300130   413000.0  3.118450e+05\n",
       "3448000755   399950.0  5.478879e+05\n",
       "4021700025   569000.0  1.044575e+06\n",
       "...               ...           ...\n",
       "1823049171   275000.0  3.594859e+05\n",
       "7967200060   243000.0  3.259755e+05\n",
       "5318100504   524000.0  5.778590e+05\n",
       "9378700200   375000.0  6.173069e+05\n",
       "3649100586   483000.0  5.317588e+05\n",
       "4324500490   215000.0  2.127775e+05\n",
       "2776600002   520000.0  3.280362e+05\n",
       "9282800075   339000.0  4.866268e+05\n",
       "8673400052   560000.0  3.043480e+05\n",
       "2731600045   390000.0  6.944295e+05\n",
       "9510860560   674000.0  4.493984e+05\n",
       "3893100327   355000.0  1.566618e+05\n",
       "1796350690   245000.0  2.990993e+05\n",
       "88000591     212000.0  1.782979e+05\n",
       "5562100325   305000.0  3.000717e+05\n",
       "3023049143   640000.0  8.326836e+05\n",
       "6141100750   389000.0  3.460013e+05\n",
       "2473480210   306000.0  4.327767e+05\n",
       "2600000510   686000.0  5.114660e+05\n",
       "5019500215   495000.0  4.934143e+05\n",
       "9324800455   436000.0  4.247134e+05\n",
       "7299600700   328000.0  5.165826e+05\n",
       "8718500260   485000.0  6.830749e+05\n",
       "2619950400   396800.0  4.451849e+05\n",
       "4083305870   705000.0  6.715295e+05\n",
       "9279700013  1250000.0  9.360745e+05\n",
       "9510970300   775000.0  7.911433e+05\n",
       "8682301050   705000.0  6.188337e+05\n",
       "3992700775   410000.0  4.025586e+05\n",
       "1761300100   279950.0  4.317871e+05\n",
       "\n",
       "[4323 rows x 2 columns]"
      ]
     },
     "execution_count": 109,
     "metadata": {},
     "output_type": "execute_result"
    }
   ],
   "source": [
    "result"
   ]
  },
  {
   "cell_type": "code",
   "execution_count": 75,
   "metadata": {
    "collapsed": true
   },
   "outputs": [],
   "source": [
    "from sklearn import metrics #importing the function metrics from sklearn "
   ]
  },
  {
   "cell_type": "code",
   "execution_count": 76,
   "metadata": {},
   "outputs": [
    {
     "name": "stdout",
     "output_type": "stream",
     "text": [
      "Mean Absolute Error: 161330.712308\n",
      "Mean Squared Error: 65448493736.2\n",
      "Root Mean Squared Error: 255829.032239\n"
     ]
    }
   ],
   "source": [
    "print('Mean Absolute Error:', metrics.mean_absolute_error(y_test,y_pred))\n",
    "print('Mean Squared Error:', metrics.mean_squared_error(y_test,y_pred))\n",
    "print('Root Mean Squared Error:', np.sqrt(metrics.mean_squared_error(y_test,y_pred)))\n",
    "\n",
    "#Calculating the MAE,MSE,RMSE ."
   ]
  },
  {
   "cell_type": "markdown",
   "metadata": {},
   "source": [
    "Since the histogram of the target variable is Right skewed we need to transform the target variable. Here we have used Logarithmic Transform."
   ]
  },
  {
   "cell_type": "code",
   "execution_count": 77,
   "metadata": {
    "collapsed": true
   },
   "outputs": [],
   "source": [
    "y_new = np.log(data.price)"
   ]
  },
  {
   "cell_type": "code",
   "execution_count": 78,
   "metadata": {},
   "outputs": [
    {
     "data": {
      "text/plain": [
       "<matplotlib.axes._subplots.AxesSubplot at 0x177d18dfc88>"
      ]
     },
     "execution_count": 78,
     "metadata": {},
     "output_type": "execute_result"
    },
    {
     "data": {
      "image/png": "[encoded data removed]",
      "text/plain": [
       "<matplotlib.figure.Figure at 0x177d1c93e80>"
      ]
     },
     "metadata": {},
     "output_type": "display_data"
    }
   ],
   "source": [
    "y_new.plot(kind='hist',y='price',color=\"Orange\")"
   ]
  },
  {
   "cell_type": "markdown",
   "metadata": {},
   "source": [
    "The above histogram of target variable price is now normal with high kurtosis "
   ]
  },
  {
   "cell_type": "code",
   "execution_count": 79,
   "metadata": {
    "collapsed": true
   },
   "outputs": [],
   "source": [
    "x_train,x_test,y_log_train,y_log_test = train_test_split(x,y_new,test_size=0.2) "
   ]
  },
  {
   "cell_type": "markdown",
   "metadata": {},
   "source": [
    "we are diving the data again in training and test but with the y variable as log of price."
   ]
  },
  {
   "cell_type": "code",
   "execution_count": 80,
   "metadata": {},
   "outputs": [
    {
     "data": {
      "text/plain": [
       "LinearRegression(copy_X=True, fit_intercept=True, n_jobs=1, normalize=False)"
      ]
     },
     "execution_count": 80,
     "metadata": {},
     "output_type": "execute_result"
    }
   ],
   "source": [
    "lm.fit(x_train,y_log_train) #Running the model with log(price)"
   ]
  },
  {
   "cell_type": "code",
   "execution_count": 82,
   "metadata": {
    "collapsed": true
   },
   "outputs": [],
   "source": [
    "coeff_df = pd.DataFrame(lm.coef_,x.columns,columns=['Coefficient'])"
   ]
  },
  {
   "cell_type": "code",
   "execution_count": 83,
   "metadata": {},
   "outputs": [
    {
     "data": {
      "text/html": [
       "<div>\n",
       "<style>\n",
       "    .dataframe thead tr:only-child th {\n",
       "        text-align: right;\n",
       "    }\n",
       "\n",
       "    .dataframe thead th {\n",
       "        text-align: left;\n",
       "    }\n",
       "\n",
       "    .dataframe tbody tr th {\n",
       "        vertical-align: top;\n",
       "    }\n",
       "</style>\n",
       "<table border=\"1\" class=\"dataframe\">\n",
       "  <thead>\n",
       "    <tr style=\"text-align: right;\">\n",
       "      <th></th>\n",
       "      <th>Coefficient</th>\n",
       "    </tr>\n",
       "  </thead>\n",
       "  <tbody>\n",
       "    <tr>\n",
       "      <th>No_bedrooms</th>\n",
       "      <td>-0.072440</td>\n",
       "    </tr>\n",
       "    <tr>\n",
       "      <th>No_bathrooms</th>\n",
       "      <td>0.151357</td>\n",
       "    </tr>\n",
       "    <tr>\n",
       "      <th>SqFt</th>\n",
       "      <td>0.000386</td>\n",
       "    </tr>\n",
       "    <tr>\n",
       "      <th>house_condition</th>\n",
       "      <td>0.028916</td>\n",
       "    </tr>\n",
       "    <tr>\n",
       "      <th>Year_built</th>\n",
       "      <td>-0.003796</td>\n",
       "    </tr>\n",
       "  </tbody>\n",
       "</table>\n",
       "</div>"
      ],
      "text/plain": [
       "                 Coefficient\n",
       "No_bedrooms        -0.072440\n",
       "No_bathrooms        0.151357\n",
       "SqFt                0.000386\n",
       "house_condition     0.028916\n",
       "Year_built         -0.003796"
      ]
     },
     "execution_count": 83,
     "metadata": {},
     "output_type": "execute_result"
    }
   ],
   "source": [
    "coeff_df #The coefficients of the regression"
   ]
  },
  {
   "cell_type": "markdown",
   "metadata": {},
   "source": [
    "Interpreting the coefficients:\n",
    "1)No_bedrooms = -0.07 ::  This shows that with a increase in no of bedroom the price decreases by 0.07%\n",
    "2)No_bathrooms = 0.148 ::  This represents with a increase in no of bathroom the price increases by 0.148%\n",
    "3)SqFt = 0.0003  :: With every 1sqft increase the price increases by 0.0003%\n",
    "4)House_condition=0.026 :: With increase in house condition(near to 4) there is increase in price by 0.026%.\n",
    "5)Year_built = -0.0038 :: As the year built increases the house price decreases by 0.0038%."
   ]
  },
  {
   "cell_type": "code",
   "execution_count": 84,
   "metadata": {
    "collapsed": true
   },
   "outputs": [],
   "source": [
    "y_log_pred = lm.predict(x_test) #Predicting the values of the test data set"
   ]
  },
  {
   "cell_type": "code",
   "execution_count": 85,
   "metadata": {
    "collapsed": true
   },
   "outputs": [],
   "source": [
    "new_result = pd.DataFrame({'Actual':y_log_test,'Predicted':y_log_pred})"
   ]
  },
  {
   "cell_type": "code",
   "execution_count": 86,
   "metadata": {},
   "outputs": [
    {
     "data": {
      "text/html": [
       "<div>\n",
       "<style>\n",
       "    .dataframe thead tr:only-child th {\n",
       "        text-align: right;\n",
       "    }\n",
       "\n",
       "    .dataframe thead th {\n",
       "        text-align: left;\n",
       "    }\n",
       "\n",
       "    .dataframe tbody tr th {\n",
       "        vertical-align: top;\n",
       "    }\n",
       "</style>\n",
       "<table border=\"1\" class=\"dataframe\">\n",
       "  <thead>\n",
       "    <tr style=\"text-align: right;\">\n",
       "      <th></th>\n",
       "      <th>Actual</th>\n",
       "      <th>Predicted</th>\n",
       "    </tr>\n",
       "    <tr>\n",
       "      <th>id</th>\n",
       "      <th></th>\n",
       "      <th></th>\n",
       "    </tr>\n",
       "  </thead>\n",
       "  <tbody>\n",
       "    <tr>\n",
       "      <th>2616800480</th>\n",
       "      <td>13.493927</td>\n",
       "      <td>13.598572</td>\n",
       "    </tr>\n",
       "    <tr>\n",
       "      <th>4217401195</th>\n",
       "      <td>13.732129</td>\n",
       "      <td>13.356935</td>\n",
       "    </tr>\n",
       "    <tr>\n",
       "      <th>4406000050</th>\n",
       "      <td>12.323856</td>\n",
       "      <td>12.505632</td>\n",
       "    </tr>\n",
       "    <tr>\n",
       "      <th>6448000090</th>\n",
       "      <td>14.269766</td>\n",
       "      <td>13.634874</td>\n",
       "    </tr>\n",
       "    <tr>\n",
       "      <th>8005100571</th>\n",
       "      <td>12.278393</td>\n",
       "      <td>12.938485</td>\n",
       "    </tr>\n",
       "    <tr>\n",
       "      <th>5451300105</th>\n",
       "      <td>13.864301</td>\n",
       "      <td>13.594088</td>\n",
       "    </tr>\n",
       "    <tr>\n",
       "      <th>2426039313</th>\n",
       "      <td>12.533576</td>\n",
       "      <td>12.569503</td>\n",
       "    </tr>\n",
       "    <tr>\n",
       "      <th>6601200250</th>\n",
       "      <td>12.230765</td>\n",
       "      <td>12.795175</td>\n",
       "    </tr>\n",
       "    <tr>\n",
       "      <th>3629790160</th>\n",
       "      <td>13.169724</td>\n",
       "      <td>12.872157</td>\n",
       "    </tr>\n",
       "    <tr>\n",
       "      <th>7147600070</th>\n",
       "      <td>12.301156</td>\n",
       "      <td>12.582263</td>\n",
       "    </tr>\n",
       "    <tr>\n",
       "      <th>1771000970</th>\n",
       "      <td>12.706848</td>\n",
       "      <td>12.582950</td>\n",
       "    </tr>\n",
       "    <tr>\n",
       "      <th>2324039036</th>\n",
       "      <td>13.300510</td>\n",
       "      <td>13.329475</td>\n",
       "    </tr>\n",
       "    <tr>\n",
       "      <th>1818800289</th>\n",
       "      <td>13.586097</td>\n",
       "      <td>12.960099</td>\n",
       "    </tr>\n",
       "    <tr>\n",
       "      <th>8655900162</th>\n",
       "      <td>11.957611</td>\n",
       "      <td>12.470332</td>\n",
       "    </tr>\n",
       "    <tr>\n",
       "      <th>1872900076</th>\n",
       "      <td>13.794287</td>\n",
       "      <td>12.916665</td>\n",
       "    </tr>\n",
       "    <tr>\n",
       "      <th>1762600190</th>\n",
       "      <td>13.849912</td>\n",
       "      <td>13.405709</td>\n",
       "    </tr>\n",
       "    <tr>\n",
       "      <th>4307320230</th>\n",
       "      <td>12.751300</td>\n",
       "      <td>13.047330</td>\n",
       "    </tr>\n",
       "    <tr>\n",
       "      <th>5207200160</th>\n",
       "      <td>13.102161</td>\n",
       "      <td>13.237492</td>\n",
       "    </tr>\n",
       "    <tr>\n",
       "      <th>5416500680</th>\n",
       "      <td>13.014778</td>\n",
       "      <td>13.260022</td>\n",
       "    </tr>\n",
       "    <tr>\n",
       "      <th>2310050040</th>\n",
       "      <td>12.798017</td>\n",
       "      <td>12.888879</td>\n",
       "    </tr>\n",
       "    <tr>\n",
       "      <th>8127700132</th>\n",
       "      <td>14.027634</td>\n",
       "      <td>13.439145</td>\n",
       "    </tr>\n",
       "    <tr>\n",
       "      <th>1796200140</th>\n",
       "      <td>12.506177</td>\n",
       "      <td>13.307769</td>\n",
       "    </tr>\n",
       "    <tr>\n",
       "      <th>2621069066</th>\n",
       "      <td>13.279367</td>\n",
       "      <td>13.387425</td>\n",
       "    </tr>\n",
       "    <tr>\n",
       "      <th>7504030090</th>\n",
       "      <td>13.399995</td>\n",
       "      <td>13.208345</td>\n",
       "    </tr>\n",
       "    <tr>\n",
       "      <th>7812801850</th>\n",
       "      <td>12.175613</td>\n",
       "      <td>12.649069</td>\n",
       "    </tr>\n",
       "    <tr>\n",
       "      <th>6813600605</th>\n",
       "      <td>14.115615</td>\n",
       "      <td>13.706346</td>\n",
       "    </tr>\n",
       "    <tr>\n",
       "      <th>2421059009</th>\n",
       "      <td>12.931203</td>\n",
       "      <td>13.062433</td>\n",
       "    </tr>\n",
       "    <tr>\n",
       "      <th>3531900060</th>\n",
       "      <td>12.751300</td>\n",
       "      <td>12.613023</td>\n",
       "    </tr>\n",
       "    <tr>\n",
       "      <th>3629700080</th>\n",
       "      <td>13.361380</td>\n",
       "      <td>13.091859</td>\n",
       "    </tr>\n",
       "    <tr>\n",
       "      <th>3826500290</th>\n",
       "      <td>12.733755</td>\n",
       "      <td>13.043427</td>\n",
       "    </tr>\n",
       "    <tr>\n",
       "      <th>...</th>\n",
       "      <td>...</td>\n",
       "      <td>...</td>\n",
       "    </tr>\n",
       "    <tr>\n",
       "      <th>97600140</th>\n",
       "      <td>13.592367</td>\n",
       "      <td>13.240837</td>\n",
       "    </tr>\n",
       "    <tr>\n",
       "      <th>3336002215</th>\n",
       "      <td>12.675920</td>\n",
       "      <td>12.832001</td>\n",
       "    </tr>\n",
       "    <tr>\n",
       "      <th>13001795</th>\n",
       "      <td>12.674513</td>\n",
       "      <td>13.520999</td>\n",
       "    </tr>\n",
       "    <tr>\n",
       "      <th>7544800195</th>\n",
       "      <td>12.936034</td>\n",
       "      <td>12.798651</td>\n",
       "    </tr>\n",
       "    <tr>\n",
       "      <th>1771100030</th>\n",
       "      <td>12.721886</td>\n",
       "      <td>12.500617</td>\n",
       "    </tr>\n",
       "    <tr>\n",
       "      <th>1283800110</th>\n",
       "      <td>13.561908</td>\n",
       "      <td>13.279552</td>\n",
       "    </tr>\n",
       "    <tr>\n",
       "      <th>5416501030</th>\n",
       "      <td>12.896717</td>\n",
       "      <td>13.198188</td>\n",
       "    </tr>\n",
       "    <tr>\n",
       "      <th>7852190410</th>\n",
       "      <td>13.304685</td>\n",
       "      <td>13.444468</td>\n",
       "    </tr>\n",
       "    <tr>\n",
       "      <th>3300701365</th>\n",
       "      <td>13.142656</td>\n",
       "      <td>12.821037</td>\n",
       "    </tr>\n",
       "    <tr>\n",
       "      <th>9827700105</th>\n",
       "      <td>13.215854</td>\n",
       "      <td>13.440793</td>\n",
       "    </tr>\n",
       "    <tr>\n",
       "      <th>2744000010</th>\n",
       "      <td>12.569326</td>\n",
       "      <td>12.999071</td>\n",
       "    </tr>\n",
       "    <tr>\n",
       "      <th>1947300115</th>\n",
       "      <td>13.047640</td>\n",
       "      <td>12.870192</td>\n",
       "    </tr>\n",
       "    <tr>\n",
       "      <th>7132300042</th>\n",
       "      <td>12.418357</td>\n",
       "      <td>12.610675</td>\n",
       "    </tr>\n",
       "    <tr>\n",
       "      <th>3389900965</th>\n",
       "      <td>13.345507</td>\n",
       "      <td>13.096581</td>\n",
       "    </tr>\n",
       "    <tr>\n",
       "      <th>2112701165</th>\n",
       "      <td>12.560244</td>\n",
       "      <td>12.661858</td>\n",
       "    </tr>\n",
       "    <tr>\n",
       "      <th>5589300435</th>\n",
       "      <td>12.791078</td>\n",
       "      <td>12.940318</td>\n",
       "    </tr>\n",
       "    <tr>\n",
       "      <th>475000190</th>\n",
       "      <td>13.049793</td>\n",
       "      <td>12.711062</td>\n",
       "    </tr>\n",
       "    <tr>\n",
       "      <th>7695470120</th>\n",
       "      <td>13.321214</td>\n",
       "      <td>13.134059</td>\n",
       "    </tr>\n",
       "    <tr>\n",
       "      <th>1951700480</th>\n",
       "      <td>13.170010</td>\n",
       "      <td>12.940998</td>\n",
       "    </tr>\n",
       "    <tr>\n",
       "      <th>9290850950</th>\n",
       "      <td>13.704579</td>\n",
       "      <td>13.521717</td>\n",
       "    </tr>\n",
       "    <tr>\n",
       "      <th>5702450250</th>\n",
       "      <td>12.736701</td>\n",
       "      <td>12.703315</td>\n",
       "    </tr>\n",
       "    <tr>\n",
       "      <th>6154900130</th>\n",
       "      <td>12.736701</td>\n",
       "      <td>12.586452</td>\n",
       "    </tr>\n",
       "    <tr>\n",
       "      <th>6453300306</th>\n",
       "      <td>12.945626</td>\n",
       "      <td>13.761663</td>\n",
       "    </tr>\n",
       "    <tr>\n",
       "      <th>2558700090</th>\n",
       "      <td>13.028053</td>\n",
       "      <td>13.011817</td>\n",
       "    </tr>\n",
       "    <tr>\n",
       "      <th>5589900761</th>\n",
       "      <td>12.660328</td>\n",
       "      <td>12.595770</td>\n",
       "    </tr>\n",
       "    <tr>\n",
       "      <th>6064800470</th>\n",
       "      <td>12.644328</td>\n",
       "      <td>12.915750</td>\n",
       "    </tr>\n",
       "    <tr>\n",
       "      <th>1685200110</th>\n",
       "      <td>12.323856</td>\n",
       "      <td>12.828622</td>\n",
       "    </tr>\n",
       "    <tr>\n",
       "      <th>1250200605</th>\n",
       "      <td>12.765688</td>\n",
       "      <td>12.804768</td>\n",
       "    </tr>\n",
       "    <tr>\n",
       "      <th>9532000070</th>\n",
       "      <td>13.191889</td>\n",
       "      <td>13.074795</td>\n",
       "    </tr>\n",
       "    <tr>\n",
       "      <th>2296700470</th>\n",
       "      <td>13.049793</td>\n",
       "      <td>13.091367</td>\n",
       "    </tr>\n",
       "  </tbody>\n",
       "</table>\n",
       "<p>4323 rows × 2 columns</p>\n",
       "</div>"
      ],
      "text/plain": [
       "               Actual  Predicted\n",
       "id                              \n",
       "2616800480  13.493927  13.598572\n",
       "4217401195  13.732129  13.356935\n",
       "4406000050  12.323856  12.505632\n",
       "6448000090  14.269766  13.634874\n",
       "8005100571  12.278393  12.938485\n",
       "5451300105  13.864301  13.594088\n",
       "2426039313  12.533576  12.569503\n",
       "6601200250  12.230765  12.795175\n",
       "3629790160  13.169724  12.872157\n",
       "7147600070  12.301156  12.582263\n",
       "1771000970  12.706848  12.582950\n",
       "2324039036  13.300510  13.329475\n",
       "1818800289  13.586097  12.960099\n",
       "8655900162  11.957611  12.470332\n",
       "1872900076  13.794287  12.916665\n",
       "1762600190  13.849912  13.405709\n",
       "4307320230  12.751300  13.047330\n",
       "5207200160  13.102161  13.237492\n",
       "5416500680  13.014778  13.260022\n",
       "2310050040  12.798017  12.888879\n",
       "8127700132  14.027634  13.439145\n",
       "1796200140  12.506177  13.307769\n",
       "2621069066  13.279367  13.387425\n",
       "7504030090  13.399995  13.208345\n",
       "7812801850  12.175613  12.649069\n",
       "6813600605  14.115615  13.706346\n",
       "2421059009  12.931203  13.062433\n",
       "3531900060  12.751300  12.613023\n",
       "3629700080  13.361380  13.091859\n",
       "3826500290  12.733755  13.043427\n",
       "...               ...        ...\n",
       "97600140    13.592367  13.240837\n",
       "3336002215  12.675920  12.832001\n",
       "13001795    12.674513  13.520999\n",
       "7544800195  12.936034  12.798651\n",
       "1771100030  12.721886  12.500617\n",
       "1283800110  13.561908  13.279552\n",
       "5416501030  12.896717  13.198188\n",
       "7852190410  13.304685  13.444468\n",
       "3300701365  13.142656  12.821037\n",
       "9827700105  13.215854  13.440793\n",
       "2744000010  12.569326  12.999071\n",
       "1947300115  13.047640  12.870192\n",
       "7132300042  12.418357  12.610675\n",
       "3389900965  13.345507  13.096581\n",
       "2112701165  12.560244  12.661858\n",
       "5589300435  12.791078  12.940318\n",
       "475000190   13.049793  12.711062\n",
       "7695470120  13.321214  13.134059\n",
       "1951700480  13.170010  12.940998\n",
       "9290850950  13.704579  13.521717\n",
       "5702450250  12.736701  12.703315\n",
       "6154900130  12.736701  12.586452\n",
       "6453300306  12.945626  13.761663\n",
       "2558700090  13.028053  13.011817\n",
       "5589900761  12.660328  12.595770\n",
       "6064800470  12.644328  12.915750\n",
       "1685200110  12.323856  12.828622\n",
       "1250200605  12.765688  12.804768\n",
       "9532000070  13.191889  13.074795\n",
       "2296700470  13.049793  13.091367\n",
       "\n",
       "[4323 rows x 2 columns]"
      ]
     },
     "execution_count": 86,
     "metadata": {},
     "output_type": "execute_result"
    }
   ],
   "source": [
    "new_result"
   ]
  },
  {
   "cell_type": "code",
   "execution_count": 87,
   "metadata": {},
   "outputs": [
    {
     "name": "stdout",
     "output_type": "stream",
     "text": [
      "Mean Absolute Error: 0.285469232859\n",
      "Mean Squared Error: 0.124939039884\n",
      "Root Mean Squared Error: 0.353467169457\n"
     ]
    }
   ],
   "source": [
    "print('Mean Absolute Error:', metrics.mean_absolute_error(y_log_test,y_log_pred))\n",
    "print('Mean Squared Error:', metrics.mean_squared_error(y_log_test,y_log_pred))\n",
    "print('Root Mean Squared Error:', np.sqrt(metrics.mean_squared_error(y_log_test,y_log_pred)))\n",
    "\n"
   ]
  },
  {
   "cell_type": "code",
   "execution_count": 88,
   "metadata": {
    "collapsed": true
   },
   "outputs": [],
   "source": [
    "Residuals = new_result.Actual - new_result.Predicted #calculating the residuals which is error (Actual - predicted)."
   ]
  },
  {
   "cell_type": "code",
   "execution_count": 89,
   "metadata": {},
   "outputs": [
    {
     "data": {
      "text/plain": [
       "<matplotlib.axes._subplots.AxesSubplot at 0x177d18f5cc0>"
      ]
     },
     "execution_count": 89,
     "metadata": {},
     "output_type": "execute_result"
    },
    {
     "data": {
      "image/png": "[encoded data removed]",
      "text/plain": [
       "<matplotlib.figure.Figure at 0x177d2ecbcc0>"
      ]
     },
     "metadata": {},
     "output_type": "display_data"
    }
   ],
   "source": [
    " Residuals.plot(kind='hist',y='Residuals',color=\"lightgreen\")"
   ]
  },
  {
   "cell_type": "markdown",
   "metadata": {},
   "source": [
    "This gives a normally distributed histogram of the residual or error which is a important aspect in deciding the worth of the regression model. Accuracy of the model.\n"
   ]
  },
  {
   "cell_type": "code",
   "execution_count": 33,
   "metadata": {
    "collapsed": true
   },
   "outputs": [],
   "source": [
    "##BASIC NUMPY OPERATIONS\n"
   ]
  },
  {
   "cell_type": "code",
   "execution_count": 34,
   "metadata": {
    "collapsed": true
   },
   "outputs": [],
   "source": [
    "import numpy as np"
   ]
  },
  {
   "cell_type": "code",
   "execution_count": 35,
   "metadata": {
    "collapsed": true
   },
   "outputs": [],
   "source": [
    "#Sorting in Numpy"
   ]
  },
  {
   "cell_type": "code",
   "execution_count": 36,
   "metadata": {},
   "outputs": [
    {
     "name": "stdout",
     "output_type": "stream",
     "text": [
      "[20 20 37 37 39 34 20 24 22 29]\n",
      "[182 156 173 184 179 185 193 196 154 158]\n"
     ]
    }
   ],
   "source": [
    "ages = np.random.randint(low=20, high=40, size = 10)\n",
    "weights = np.random.randint(low=150, high=200, size=10)\n",
    "\n",
    "print(ages)\n",
    "print(weights)"
   ]
  },
  {
   "cell_type": "code",
   "execution_count": 37,
   "metadata": {},
   "outputs": [
    {
     "name": "stdout",
     "output_type": "stream",
     "text": [
      "[20 20 20 22 24 29 34 37 37 39]\n",
      "[182 156 193 154 196 158 185 173 184 179]\n"
     ]
    }
   ],
   "source": [
    "# Now we will sort the ages array first and use that sorter to sort the corresponding weights array\n",
    "sorter = np.argsort(ages)\n",
    "print(ages[sorter])\n",
    "print(weights[sorter])"
   ]
  },
  {
   "cell_type": "code",
   "execution_count": 38,
   "metadata": {
    "collapsed": true
   },
   "outputs": [],
   "source": [
    "#Matrix multiplication"
   ]
  },
  {
   "cell_type": "code",
   "execution_count": 39,
   "metadata": {
    "collapsed": true
   },
   "outputs": [],
   "source": [
    "a = np.array([[1,2,3,4],[5,6,7,8]]) #creating an array "
   ]
  },
  {
   "cell_type": "code",
   "execution_count": 40,
   "metadata": {
    "collapsed": true
   },
   "outputs": [],
   "source": [
    "b = np.array([[1,2,3],[4,5,6],[7,8,9],[10,11,12]])"
   ]
  },
  {
   "cell_type": "code",
   "execution_count": 41,
   "metadata": {
    "collapsed": true
   },
   "outputs": [],
   "source": [
    "c = np.matmul(a, b)# To find matrix product"
   ]
  },
  {
   "cell_type": "code",
   "execution_count": 42,
   "metadata": {},
   "outputs": [
    {
     "data": {
      "text/plain": [
       "array([[ 70,  80,  90],\n",
       "       [158, 184, 210]])"
      ]
     },
     "execution_count": 42,
     "metadata": {},
     "output_type": "execute_result"
    }
   ],
   "source": [
    "c"
   ]
  },
  {
   "cell_type": "code",
   "execution_count": 43,
   "metadata": {
    "collapsed": true
   },
   "outputs": [],
   "source": [
    "#TRANSPOSE"
   ]
  },
  {
   "cell_type": "code",
   "execution_count": 44,
   "metadata": {},
   "outputs": [
    {
     "data": {
      "text/plain": [
       "array([[ 1,  2,  3,  4],\n",
       "       [ 5,  6,  7,  8],\n",
       "       [ 9, 10, 11, 12]])"
      ]
     },
     "execution_count": 44,
     "metadata": {},
     "output_type": "execute_result"
    }
   ],
   "source": [
    "m = np.array([[1,2,3,4], [5,6,7,8], [9,10,11,12]])\n",
    "m"
   ]
  },
  {
   "cell_type": "code",
   "execution_count": 45,
   "metadata": {},
   "outputs": [
    {
     "data": {
      "text/plain": [
       "array([[ 1,  5,  9],\n",
       "       [ 2,  6, 10],\n",
       "       [ 3,  7, 11],\n",
       "       [ 4,  8, 12]])"
      ]
     },
     "execution_count": 45,
     "metadata": {},
     "output_type": "execute_result"
    }
   ],
   "source": [
    "m.T\n",
    "# displays the following result:"
   ]
  },
  {
   "cell_type": "code",
   "execution_count": 47,
   "metadata": {
    "collapsed": true
   },
   "outputs": [],
   "source": [
    "##PANDAS Basic operations #######"
   ]
  },
  {
   "cell_type": "code",
   "execution_count": 49,
   "metadata": {
    "collapsed": true
   },
   "outputs": [],
   "source": [
    "import pandas as pd"
   ]
  },
  {
   "cell_type": "code",
   "execution_count": 50,
   "metadata": {},
   "outputs": [
    {
     "data": {
      "text/plain": [
       "0    11\n",
       "1    28\n",
       "2    72\n",
       "3     3\n",
       "4     5\n",
       "5     8\n",
       "dtype: int64"
      ]
     },
     "execution_count": 50,
     "metadata": {},
     "output_type": "execute_result"
    }
   ],
   "source": [
    "S = pd.Series([11, 28, 72, 3, 5, 8])\n",
    "S"
   ]
  },
  {
   "cell_type": "code",
   "execution_count": 51,
   "metadata": {},
   "outputs": [
    {
     "name": "stdout",
     "output_type": "stream",
     "text": [
      "RangeIndex(start=0, stop=6, step=1)\n"
     ]
    }
   ],
   "source": [
    "print(S.index) #Greaping by index"
   ]
  },
  {
   "cell_type": "code",
   "execution_count": 52,
   "metadata": {},
   "outputs": [
    {
     "name": "stdout",
     "output_type": "stream",
     "text": [
      "[11 28 72  3  5  8]\n"
     ]
    }
   ],
   "source": [
    "print(S.values) #Greaping by values"
   ]
  },
  {
   "cell_type": "code",
   "execution_count": 53,
   "metadata": {},
   "outputs": [
    {
     "data": {
      "text/html": [
       "<div>\n",
       "<style>\n",
       "    .dataframe thead tr:only-child th {\n",
       "        text-align: right;\n",
       "    }\n",
       "\n",
       "    .dataframe thead th {\n",
       "        text-align: left;\n",
       "    }\n",
       "\n",
       "    .dataframe tbody tr th {\n",
       "        vertical-align: top;\n",
       "    }\n",
       "</style>\n",
       "<table border=\"1\" class=\"dataframe\">\n",
       "  <thead>\n",
       "    <tr style=\"text-align: right;\">\n",
       "      <th></th>\n",
       "      <th>coverage</th>\n",
       "      <th>name</th>\n",
       "      <th>reports</th>\n",
       "      <th>year</th>\n",
       "    </tr>\n",
       "  </thead>\n",
       "  <tbody>\n",
       "    <tr>\n",
       "      <th>Cochice</th>\n",
       "      <td>25</td>\n",
       "      <td>Jason</td>\n",
       "      <td>4</td>\n",
       "      <td>2012</td>\n",
       "    </tr>\n",
       "    <tr>\n",
       "      <th>Pima</th>\n",
       "      <td>94</td>\n",
       "      <td>Molly</td>\n",
       "      <td>24</td>\n",
       "      <td>2012</td>\n",
       "    </tr>\n",
       "    <tr>\n",
       "      <th>Santa Cruz</th>\n",
       "      <td>57</td>\n",
       "      <td>Tina</td>\n",
       "      <td>31</td>\n",
       "      <td>2013</td>\n",
       "    </tr>\n",
       "    <tr>\n",
       "      <th>Maricopa</th>\n",
       "      <td>62</td>\n",
       "      <td>Jake</td>\n",
       "      <td>2</td>\n",
       "      <td>2014</td>\n",
       "    </tr>\n",
       "    <tr>\n",
       "      <th>Yuma</th>\n",
       "      <td>70</td>\n",
       "      <td>Amy</td>\n",
       "      <td>3</td>\n",
       "      <td>2014</td>\n",
       "    </tr>\n",
       "  </tbody>\n",
       "</table>\n",
       "</div>"
      ],
      "text/plain": [
       "            coverage   name  reports  year\n",
       "Cochice           25  Jason        4  2012\n",
       "Pima              94  Molly       24  2012\n",
       "Santa Cruz        57   Tina       31  2013\n",
       "Maricopa          62   Jake        2  2014\n",
       "Yuma              70    Amy        3  2014"
      ]
     },
     "execution_count": 53,
     "metadata": {},
     "output_type": "execute_result"
    }
   ],
   "source": [
    "data = {'name': ['Jason', 'Molly', 'Tina', 'Jake', 'Amy'], \n",
    "        'year': [2012, 2012, 2013, 2014, 2014], \n",
    "        'reports': [4, 24, 31, 2, 3],\n",
    "        'coverage': [25, 94, 57, 62, 70]}\n",
    "df = pd.DataFrame(data, index = ['Cochice', 'Pima', 'Santa Cruz', 'Maricopa', 'Yuma'])\n",
    "df"
   ]
  },
  {
   "cell_type": "code",
   "execution_count": 54,
   "metadata": {
    "collapsed": true
   },
   "outputs": [],
   "source": [
    "capitalizer = lambda x: x.upper() #Create a capitalization lambda function"
   ]
  },
  {
   "cell_type": "code",
   "execution_count": 55,
   "metadata": {
    "collapsed": true
   },
   "outputs": [],
   "source": [
    "#Apply the capitalizer function over the column ‘name'"
   ]
  },
  {
   "cell_type": "code",
   "execution_count": 56,
   "metadata": {},
   "outputs": [
    {
     "data": {
      "text/plain": [
       "Cochice       JASON\n",
       "Pima          MOLLY\n",
       "Santa Cruz     TINA\n",
       "Maricopa       JAKE\n",
       "Yuma            AMY\n",
       "Name: name, dtype: object"
      ]
     },
     "execution_count": 56,
     "metadata": {},
     "output_type": "execute_result"
    }
   ],
   "source": [
    "df['name'].apply(capitalizer)"
   ]
  },
  {
   "cell_type": "code",
   "execution_count": 58,
   "metadata": {
    "collapsed": true
   },
   "outputs": [],
   "source": [
    "df_groupby = list(df.groupby('year'))"
   ]
  },
  {
   "cell_type": "code",
   "execution_count": 59,
   "metadata": {},
   "outputs": [
    {
     "data": {
      "text/plain": [
       "[(2012,          coverage   name  reports  year\n",
       "  Cochice        25  Jason        4  2012\n",
       "  Pima           94  Molly       24  2012),\n",
       " (2013,             coverage  name  reports  year\n",
       "  Santa Cruz        57  Tina       31  2013),\n",
       " (2014,           coverage  name  reports  year\n",
       "  Maricopa        62  Jake        2  2014\n",
       "  Yuma            70   Amy        3  2014)]"
      ]
     },
     "execution_count": 59,
     "metadata": {},
     "output_type": "execute_result"
    }
   ],
   "source": [
    "df_groupby"
   ]
  },
  {
   "cell_type": "code",
   "execution_count": null,
   "metadata": {
    "collapsed": true
   },
   "outputs": [],
   "source": []
  }
 ],
 "metadata": {
  "kernelspec": {
   "display_name": "Python 3",
   "language": "python",
   "name": "python3"
  },
  "language_info": {
   "codemirror_mode": {
    "name": "ipython",
    "version": 3
   },
   "file_extension": ".py",
   "mimetype": "text/x-python",
   "name": "python",
   "nbconvert_exporter": "python",
   "pygments_lexer": "ipython3",
   "version": "3.6.1"
  }
 },
 "nbformat": 4,
 "nbformat_minor": 2
}
